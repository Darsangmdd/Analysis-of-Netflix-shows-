{
  "nbformat": 4,
  "nbformat_minor": 0,
  "metadata": {
    "colab": {
      "name": "Netflix Dataset.ipynb",
      "provenance": [],
      "collapsed_sections": [],
      "authorship_tag": "ABX9TyMZ2nczXlbHjfV2vI4kRTuD",
      "include_colab_link": true
    },
    "kernelspec": {
      "name": "python3",
      "display_name": "Python 3"
    },
    "language_info": {
      "name": "python"
    }
  },
  "cells": [
    {
      "cell_type": "markdown",
      "metadata": {
        "id": "view-in-github",
        "colab_type": "text"
      },
      "source": [
        "<a href=\"https://colab.research.google.com/github/Darsangmdd/Analysis-of-Netflix-shows-/blob/main/Netflix_Dataset.ipynb\" target=\"_parent\"><img src=\"https://colab.research.google.com/assets/colab-badge.svg\" alt=\"Open In Colab\"/></a>"
      ]
    },
    {
      "cell_type": "markdown",
      "metadata": {
        "id": "l9ONphq5Svw6"
      },
      "source": [
        "## ***ANALYSIS OF NETFLIX SHOWS***"
      ]
    },
    {
      "cell_type": "code",
      "metadata": {
        "colab": {
          "base_uri": "https://localhost:8080/",
          "height": 585
        },
        "id": "oMr3tABNS_HB",
        "outputId": "c6790af7-9544-4a91-9c9d-f5e8295adb79"
      },
      "source": [
        "import pandas as pd\n",
        "import numpy as np\n",
        "import matplotlib.pyplot as plt\n",
        "%matplotlib inline \n",
        "import seaborn as sns \n",
        "dataset=pd.read_csv('netflix-rotten-tomatoes-metacritic-imdb.csv')\n",
        "dataset.tail()"
      ],
      "execution_count": 1,
      "outputs": [
        {
          "output_type": "execute_result",
          "data": {
            "text/html": [
              "<div>\n",
              "<style scoped>\n",
              "    .dataframe tbody tr th:only-of-type {\n",
              "        vertical-align: middle;\n",
              "    }\n",
              "\n",
              "    .dataframe tbody tr th {\n",
              "        vertical-align: top;\n",
              "    }\n",
              "\n",
              "    .dataframe thead th {\n",
              "        text-align: right;\n",
              "    }\n",
              "</style>\n",
              "<table border=\"1\" class=\"dataframe\">\n",
              "  <thead>\n",
              "    <tr style=\"text-align: right;\">\n",
              "      <th></th>\n",
              "      <th>Title</th>\n",
              "      <th>Genre</th>\n",
              "      <th>Tags</th>\n",
              "      <th>Languages</th>\n",
              "      <th>Series or Movie</th>\n",
              "      <th>Hidden Gem Score</th>\n",
              "      <th>Country Availability</th>\n",
              "      <th>Runtime</th>\n",
              "      <th>Director</th>\n",
              "      <th>Writer</th>\n",
              "      <th>Actors</th>\n",
              "      <th>View Rating</th>\n",
              "      <th>IMDb Score</th>\n",
              "      <th>Rotten Tomatoes Score</th>\n",
              "      <th>Metacritic Score</th>\n",
              "      <th>Awards Received</th>\n",
              "      <th>Awards Nominated For</th>\n",
              "      <th>Boxoffice</th>\n",
              "      <th>Release Date</th>\n",
              "      <th>Netflix Release Date</th>\n",
              "      <th>Production House</th>\n",
              "      <th>Netflix Link</th>\n",
              "      <th>IMDb Link</th>\n",
              "      <th>Summary</th>\n",
              "      <th>IMDb Votes</th>\n",
              "      <th>Image</th>\n",
              "      <th>Poster</th>\n",
              "      <th>TMDb Trailer</th>\n",
              "      <th>Trailer Site</th>\n",
              "    </tr>\n",
              "  </thead>\n",
              "  <tbody>\n",
              "    <tr>\n",
              "      <th>15475</th>\n",
              "      <td>K-POP Extreme Survival</td>\n",
              "      <td>NaN</td>\n",
              "      <td>TV Dramas,TV Programmes,TV Comedies,Romantic T...</td>\n",
              "      <td>NaN</td>\n",
              "      <td>Series</td>\n",
              "      <td>NaN</td>\n",
              "      <td>South Korea,Argentina,United Kingdom,Australia...</td>\n",
              "      <td>&lt; 30 minutes</td>\n",
              "      <td>NaN</td>\n",
              "      <td>NaN</td>\n",
              "      <td>NaN</td>\n",
              "      <td>NaN</td>\n",
              "      <td>NaN</td>\n",
              "      <td>NaN</td>\n",
              "      <td>NaN</td>\n",
              "      <td>NaN</td>\n",
              "      <td>NaN</td>\n",
              "      <td>NaN</td>\n",
              "      <td>NaN</td>\n",
              "      <td>2015-04-14</td>\n",
              "      <td>NaN</td>\n",
              "      <td>https://www.netflix.com/watch/80031595</td>\n",
              "      <td>NaN</td>\n",
              "      <td>Seung Yeon decides to chase her dream of becom...</td>\n",
              "      <td>NaN</td>\n",
              "      <td>https://occ-0-2851-38.1.nflxso.net/dnm/api/v6/...</td>\n",
              "      <td>NaN</td>\n",
              "      <td>NaN</td>\n",
              "      <td>NaN</td>\n",
              "    </tr>\n",
              "    <tr>\n",
              "      <th>15476</th>\n",
              "      <td>DreamWorks Shreks Swamp Stories</td>\n",
              "      <td>NaN</td>\n",
              "      <td>Animal Tales,Family Comedies,Family Adventures...</td>\n",
              "      <td>NaN</td>\n",
              "      <td>Series</td>\n",
              "      <td>NaN</td>\n",
              "      <td>Russia,Hong Kong,Hungary,Australia,South Korea...</td>\n",
              "      <td>&lt; 30 minutes</td>\n",
              "      <td>NaN</td>\n",
              "      <td>NaN</td>\n",
              "      <td>NaN</td>\n",
              "      <td>NaN</td>\n",
              "      <td>NaN</td>\n",
              "      <td>NaN</td>\n",
              "      <td>NaN</td>\n",
              "      <td>NaN</td>\n",
              "      <td>NaN</td>\n",
              "      <td>NaN</td>\n",
              "      <td>NaN</td>\n",
              "      <td>2015-04-14</td>\n",
              "      <td>NaN</td>\n",
              "      <td>https://www.netflix.com/watch/70242630</td>\n",
              "      <td>NaN</td>\n",
              "      <td>Shrek celebrates Halloween, Puss in Boots is c...</td>\n",
              "      <td>NaN</td>\n",
              "      <td>https://occ-0-2851-38.1.nflxso.net/dnm/api/v6/...</td>\n",
              "      <td>NaN</td>\n",
              "      <td>NaN</td>\n",
              "      <td>NaN</td>\n",
              "    </tr>\n",
              "    <tr>\n",
              "      <th>15477</th>\n",
              "      <td>DreamWorks Happy Holidays from Madagascar</td>\n",
              "      <td>Animation, Comedy, Family</td>\n",
              "      <td>TV Comedies,Kids TV,Animal Tales,TV Cartoons,T...</td>\n",
              "      <td>English</td>\n",
              "      <td>Series</td>\n",
              "      <td>8.4</td>\n",
              "      <td>Belgium,Switzerland,United States,Germany,Unit...</td>\n",
              "      <td>&lt; 30 minutes</td>\n",
              "      <td>NaN</td>\n",
              "      <td>NaN</td>\n",
              "      <td>Jung Hyun Kim</td>\n",
              "      <td>NaN</td>\n",
              "      <td>6.8</td>\n",
              "      <td>NaN</td>\n",
              "      <td>NaN</td>\n",
              "      <td>NaN</td>\n",
              "      <td>NaN</td>\n",
              "      <td>NaN</td>\n",
              "      <td>NaN</td>\n",
              "      <td>2015-04-14</td>\n",
              "      <td>NaN</td>\n",
              "      <td>https://www.netflix.com/watch/70259784</td>\n",
              "      <td>NaN</td>\n",
              "      <td>Madagascar goes wild with holiday spirit in th...</td>\n",
              "      <td>71.0</td>\n",
              "      <td>https://occ-0-2773-2774.1.nflxso.net/dnm/api/v...</td>\n",
              "      <td>NaN</td>\n",
              "      <td>NaN</td>\n",
              "      <td>NaN</td>\n",
              "    </tr>\n",
              "    <tr>\n",
              "      <th>15478</th>\n",
              "      <td>DreamWorks Holiday Classics</td>\n",
              "      <td>Animation, Comedy, Family</td>\n",
              "      <td>TV Comedies,Kids TV,TV Cartoons,TV Programmes,...</td>\n",
              "      <td>English</td>\n",
              "      <td>Series</td>\n",
              "      <td>8.2</td>\n",
              "      <td>Belgium,Switzerland,Germany,Argentina,United K...</td>\n",
              "      <td>&lt; 30 minutes</td>\n",
              "      <td>NaN</td>\n",
              "      <td>NaN</td>\n",
              "      <td>NaN</td>\n",
              "      <td>Unrated</td>\n",
              "      <td>6.4</td>\n",
              "      <td>NaN</td>\n",
              "      <td>NaN</td>\n",
              "      <td>NaN</td>\n",
              "      <td>NaN</td>\n",
              "      <td>NaN</td>\n",
              "      <td>NaN</td>\n",
              "      <td>2015-04-14</td>\n",
              "      <td>Fox</td>\n",
              "      <td>https://www.netflix.com/watch/70221348</td>\n",
              "      <td>NaN</td>\n",
              "      <td>Join your DreamWorks friends for these four ho...</td>\n",
              "      <td>82.0</td>\n",
              "      <td>https://occ-0-2851-38.1.nflxso.net/dnm/api/v6/...</td>\n",
              "      <td>NaN</td>\n",
              "      <td>NaN</td>\n",
              "      <td>NaN</td>\n",
              "    </tr>\n",
              "    <tr>\n",
              "      <th>15479</th>\n",
              "      <td>DreamWorks Kung Fu Panda Awesome Secrets</td>\n",
              "      <td>Animation, Action, Comedy, Family</td>\n",
              "      <td>TV Comedies,Kids TV,Animal Tales,TV Cartoons,T...</td>\n",
              "      <td>English</td>\n",
              "      <td>Series</td>\n",
              "      <td>8.1</td>\n",
              "      <td>Belgium,Switzerland,Germany,United Kingdom,Fra...</td>\n",
              "      <td>&lt; 30 minutes</td>\n",
              "      <td>NaN</td>\n",
              "      <td>NaN</td>\n",
              "      <td>NaN</td>\n",
              "      <td>TV-PG</td>\n",
              "      <td>6.2</td>\n",
              "      <td>NaN</td>\n",
              "      <td>NaN</td>\n",
              "      <td>NaN</td>\n",
              "      <td>NaN</td>\n",
              "      <td>NaN</td>\n",
              "      <td>NaN</td>\n",
              "      <td>2015-04-14</td>\n",
              "      <td>NaN</td>\n",
              "      <td>https://www.netflix.com/watch/70241791</td>\n",
              "      <td>NaN</td>\n",
              "      <td>In this pair of adventures, Po tells the story...</td>\n",
              "      <td>17.0</td>\n",
              "      <td>https://occ-0-2851-38.1.nflxso.net/dnm/api/v6/...</td>\n",
              "      <td>NaN</td>\n",
              "      <td>NaN</td>\n",
              "      <td>NaN</td>\n",
              "    </tr>\n",
              "  </tbody>\n",
              "</table>\n",
              "</div>"
            ],
            "text/plain": [
              "                                           Title  ... Trailer Site\n",
              "15475                     K-POP Extreme Survival  ...          NaN\n",
              "15476            DreamWorks Shreks Swamp Stories  ...          NaN\n",
              "15477  DreamWorks Happy Holidays from Madagascar  ...          NaN\n",
              "15478                DreamWorks Holiday Classics  ...          NaN\n",
              "15479   DreamWorks Kung Fu Panda Awesome Secrets  ...          NaN\n",
              "\n",
              "[5 rows x 29 columns]"
            ]
          },
          "metadata": {
            "tags": []
          },
          "execution_count": 1
        }
      ]
    },
    {
      "cell_type": "code",
      "metadata": {
        "colab": {
          "base_uri": "https://localhost:8080/"
        },
        "id": "qtusp3VEWNJ6",
        "outputId": "54254885-ffd7-4d8d-e65a-9b971b3933d2"
      },
      "source": [
        "dataset.columns"
      ],
      "execution_count": 2,
      "outputs": [
        {
          "output_type": "execute_result",
          "data": {
            "text/plain": [
              "Index(['Title', 'Genre', 'Tags', 'Languages', 'Series or Movie',\n",
              "       'Hidden Gem Score', 'Country Availability', 'Runtime', 'Director',\n",
              "       'Writer', 'Actors', 'View Rating', 'IMDb Score',\n",
              "       'Rotten Tomatoes Score', 'Metacritic Score', 'Awards Received',\n",
              "       'Awards Nominated For', 'Boxoffice', 'Release Date',\n",
              "       'Netflix Release Date', 'Production House', 'Netflix Link', 'IMDb Link',\n",
              "       'Summary', 'IMDb Votes', 'Image', 'Poster', 'TMDb Trailer',\n",
              "       'Trailer Site'],\n",
              "      dtype='object')"
            ]
          },
          "metadata": {
            "tags": []
          },
          "execution_count": 2
        }
      ]
    },
    {
      "cell_type": "code",
      "metadata": {
        "id": "HI6fskdwT9c4"
      },
      "source": [
        "dataset.drop(columns = ['Tags', 'Netflix Link', 'IMDb Link','Summary','Image','Poster','TMDb Trailer','Trailer Site'], inplace=True)"
      ],
      "execution_count": 3,
      "outputs": []
    },
    {
      "cell_type": "markdown",
      "metadata": {
        "id": "3K2rf8_dWu7s"
      },
      "source": [
        "### **1. Top 10 movies based on every score**\n"
      ]
    },
    {
      "cell_type": "code",
      "metadata": {
        "colab": {
          "base_uri": "https://localhost:8080/",
          "height": 343
        },
        "id": "8HV82D4MrNUH",
        "outputId": "92bb2d30-3eaa-40f3-f584-7ab3563eec5a"
      },
      "source": [
        "dataset[['Title','Hidden Gem Score']].sort_values(by='Hidden Gem Score',ascending=False).head(10)"
      ],
      "execution_count": 4,
      "outputs": [
        {
          "output_type": "execute_result",
          "data": {
            "text/html": [
              "<div>\n",
              "<style scoped>\n",
              "    .dataframe tbody tr th:only-of-type {\n",
              "        vertical-align: middle;\n",
              "    }\n",
              "\n",
              "    .dataframe tbody tr th {\n",
              "        vertical-align: top;\n",
              "    }\n",
              "\n",
              "    .dataframe thead th {\n",
              "        text-align: right;\n",
              "    }\n",
              "</style>\n",
              "<table border=\"1\" class=\"dataframe\">\n",
              "  <thead>\n",
              "    <tr style=\"text-align: right;\">\n",
              "      <th></th>\n",
              "      <th>Title</th>\n",
              "      <th>Hidden Gem Score</th>\n",
              "    </tr>\n",
              "  </thead>\n",
              "  <tbody>\n",
              "    <tr>\n",
              "      <th>293</th>\n",
              "      <td>No Festival</td>\n",
              "      <td>9.8</td>\n",
              "    </tr>\n",
              "    <tr>\n",
              "      <th>15314</th>\n",
              "      <td>Horsin Around</td>\n",
              "      <td>9.7</td>\n",
              "    </tr>\n",
              "    <tr>\n",
              "      <th>205</th>\n",
              "      <td>The Dream House</td>\n",
              "      <td>9.7</td>\n",
              "    </tr>\n",
              "    <tr>\n",
              "      <th>7176</th>\n",
              "      <td>Conspiracy</td>\n",
              "      <td>9.6</td>\n",
              "    </tr>\n",
              "    <tr>\n",
              "      <th>1137</th>\n",
              "      <td>A Lion in the House</td>\n",
              "      <td>9.6</td>\n",
              "    </tr>\n",
              "    <tr>\n",
              "      <th>7170</th>\n",
              "      <td>Im Sorry</td>\n",
              "      <td>9.6</td>\n",
              "    </tr>\n",
              "    <tr>\n",
              "      <th>2906</th>\n",
              "      <td>Flavours of Romania</td>\n",
              "      <td>9.6</td>\n",
              "    </tr>\n",
              "    <tr>\n",
              "      <th>3276</th>\n",
              "      <td>Bye Bye London</td>\n",
              "      <td>9.5</td>\n",
              "    </tr>\n",
              "    <tr>\n",
              "      <th>5178</th>\n",
              "      <td>Regiment Diaries</td>\n",
              "      <td>9.5</td>\n",
              "    </tr>\n",
              "    <tr>\n",
              "      <th>3260</th>\n",
              "      <td>Numberblocks</td>\n",
              "      <td>9.5</td>\n",
              "    </tr>\n",
              "  </tbody>\n",
              "</table>\n",
              "</div>"
            ],
            "text/plain": [
              "                     Title  Hidden Gem Score\n",
              "293            No Festival               9.8\n",
              "15314        Horsin Around               9.7\n",
              "205        The Dream House               9.7\n",
              "7176            Conspiracy               9.6\n",
              "1137   A Lion in the House               9.6\n",
              "7170              Im Sorry               9.6\n",
              "2906   Flavours of Romania               9.6\n",
              "3276        Bye Bye London               9.5\n",
              "5178      Regiment Diaries               9.5\n",
              "3260          Numberblocks               9.5"
            ]
          },
          "metadata": {
            "tags": []
          },
          "execution_count": 4
        }
      ]
    },
    {
      "cell_type": "code",
      "metadata": {
        "colab": {
          "base_uri": "https://localhost:8080/",
          "height": 343
        },
        "id": "6FnMrggGrzRv",
        "outputId": "8b1a8eca-56fc-42b5-a2b6-49a57130c154"
      },
      "source": [
        "dataset[['Title','IMDb Score']].sort_values(by='IMDb Score',ascending=False).head(10)"
      ],
      "execution_count": 5,
      "outputs": [
        {
          "output_type": "execute_result",
          "data": {
            "text/html": [
              "<div>\n",
              "<style scoped>\n",
              "    .dataframe tbody tr th:only-of-type {\n",
              "        vertical-align: middle;\n",
              "    }\n",
              "\n",
              "    .dataframe tbody tr th {\n",
              "        vertical-align: top;\n",
              "    }\n",
              "\n",
              "    .dataframe thead th {\n",
              "        text-align: right;\n",
              "    }\n",
              "</style>\n",
              "<table border=\"1\" class=\"dataframe\">\n",
              "  <thead>\n",
              "    <tr style=\"text-align: right;\">\n",
              "      <th></th>\n",
              "      <th>Title</th>\n",
              "      <th>IMDb Score</th>\n",
              "    </tr>\n",
              "  </thead>\n",
              "  <tbody>\n",
              "    <tr>\n",
              "      <th>293</th>\n",
              "      <td>No Festival</td>\n",
              "      <td>9.7</td>\n",
              "    </tr>\n",
              "    <tr>\n",
              "      <th>15406</th>\n",
              "      <td>Breaking Bad</td>\n",
              "      <td>9.5</td>\n",
              "    </tr>\n",
              "    <tr>\n",
              "      <th>15314</th>\n",
              "      <td>Horsin Around</td>\n",
              "      <td>9.5</td>\n",
              "    </tr>\n",
              "    <tr>\n",
              "      <th>2906</th>\n",
              "      <td>Flavours of Romania</td>\n",
              "      <td>9.5</td>\n",
              "    </tr>\n",
              "    <tr>\n",
              "      <th>205</th>\n",
              "      <td>The Dream House</td>\n",
              "      <td>9.4</td>\n",
              "    </tr>\n",
              "    <tr>\n",
              "      <th>5873</th>\n",
              "      <td>Our Planet</td>\n",
              "      <td>9.3</td>\n",
              "    </tr>\n",
              "    <tr>\n",
              "      <th>14621</th>\n",
              "      <td>The Shawshank Redemption</td>\n",
              "      <td>9.3</td>\n",
              "    </tr>\n",
              "    <tr>\n",
              "      <th>15389</th>\n",
              "      <td>Avatar: The Last Airbender</td>\n",
              "      <td>9.2</td>\n",
              "    </tr>\n",
              "    <tr>\n",
              "      <th>11425</th>\n",
              "      <td>Rick and Morty</td>\n",
              "      <td>9.2</td>\n",
              "    </tr>\n",
              "    <tr>\n",
              "      <th>7176</th>\n",
              "      <td>Conspiracy</td>\n",
              "      <td>9.2</td>\n",
              "    </tr>\n",
              "  </tbody>\n",
              "</table>\n",
              "</div>"
            ],
            "text/plain": [
              "                            Title  IMDb Score\n",
              "293                   No Festival         9.7\n",
              "15406                Breaking Bad         9.5\n",
              "15314               Horsin Around         9.5\n",
              "2906          Flavours of Romania         9.5\n",
              "205               The Dream House         9.4\n",
              "5873                   Our Planet         9.3\n",
              "14621    The Shawshank Redemption         9.3\n",
              "15389  Avatar: The Last Airbender         9.2\n",
              "11425              Rick and Morty         9.2\n",
              "7176                   Conspiracy         9.2"
            ]
          },
          "metadata": {
            "tags": []
          },
          "execution_count": 5
        }
      ]
    },
    {
      "cell_type": "code",
      "metadata": {
        "colab": {
          "base_uri": "https://localhost:8080/",
          "height": 343
        },
        "id": "P3YU0c5pr5z-",
        "outputId": "51cde091-1a62-4c57-9137-0a494e267ab9"
      },
      "source": [
        "dataset[['Title','Rotten Tomatoes Score']].sort_values(by='Rotten Tomatoes Score',ascending=False).head(10)"
      ],
      "execution_count": 6,
      "outputs": [
        {
          "output_type": "execute_result",
          "data": {
            "text/html": [
              "<div>\n",
              "<style scoped>\n",
              "    .dataframe tbody tr th:only-of-type {\n",
              "        vertical-align: middle;\n",
              "    }\n",
              "\n",
              "    .dataframe tbody tr th {\n",
              "        vertical-align: top;\n",
              "    }\n",
              "\n",
              "    .dataframe thead th {\n",
              "        text-align: right;\n",
              "    }\n",
              "</style>\n",
              "<table border=\"1\" class=\"dataframe\">\n",
              "  <thead>\n",
              "    <tr style=\"text-align: right;\">\n",
              "      <th></th>\n",
              "      <th>Title</th>\n",
              "      <th>Rotten Tomatoes Score</th>\n",
              "    </tr>\n",
              "  </thead>\n",
              "  <tbody>\n",
              "    <tr>\n",
              "      <th>10503</th>\n",
              "      <td>7:19</td>\n",
              "      <td>100.0</td>\n",
              "    </tr>\n",
              "    <tr>\n",
              "      <th>9515</th>\n",
              "      <td>The Beast Stalker</td>\n",
              "      <td>100.0</td>\n",
              "    </tr>\n",
              "    <tr>\n",
              "      <th>9194</th>\n",
              "      <td>Mr. Roosevelt</td>\n",
              "      <td>100.0</td>\n",
              "    </tr>\n",
              "    <tr>\n",
              "      <th>9199</th>\n",
              "      <td>Creep 2</td>\n",
              "      <td>100.0</td>\n",
              "    </tr>\n",
              "    <tr>\n",
              "      <th>9265</th>\n",
              "      <td>Cool Hand Luke</td>\n",
              "      <td>100.0</td>\n",
              "    </tr>\n",
              "    <tr>\n",
              "      <th>9273</th>\n",
              "      <td>Law of Desire</td>\n",
              "      <td>100.0</td>\n",
              "    </tr>\n",
              "    <tr>\n",
              "      <th>9287</th>\n",
              "      <td>Cuba and the Cameraman</td>\n",
              "      <td>100.0</td>\n",
              "    </tr>\n",
              "    <tr>\n",
              "      <th>9294</th>\n",
              "      <td>Saving Capitalism</td>\n",
              "      <td>100.0</td>\n",
              "    </tr>\n",
              "    <tr>\n",
              "      <th>1910</th>\n",
              "      <td>A Dogs Journey</td>\n",
              "      <td>100.0</td>\n",
              "    </tr>\n",
              "    <tr>\n",
              "      <th>9391</th>\n",
              "      <td>Patton Oswalt: Annihilation</td>\n",
              "      <td>100.0</td>\n",
              "    </tr>\n",
              "  </tbody>\n",
              "</table>\n",
              "</div>"
            ],
            "text/plain": [
              "                             Title  Rotten Tomatoes Score\n",
              "10503                         7:19                  100.0\n",
              "9515             The Beast Stalker                  100.0\n",
              "9194                 Mr. Roosevelt                  100.0\n",
              "9199                       Creep 2                  100.0\n",
              "9265                Cool Hand Luke                  100.0\n",
              "9273                 Law of Desire                  100.0\n",
              "9287        Cuba and the Cameraman                  100.0\n",
              "9294             Saving Capitalism                  100.0\n",
              "1910                A Dogs Journey                  100.0\n",
              "9391   Patton Oswalt: Annihilation                  100.0"
            ]
          },
          "metadata": {
            "tags": []
          },
          "execution_count": 6
        }
      ]
    },
    {
      "cell_type": "code",
      "metadata": {
        "colab": {
          "base_uri": "https://localhost:8080/",
          "height": 343
        },
        "id": "x-c5mSdPsFLG",
        "outputId": "1b6751d7-cf87-4261-9118-9e96b3854d28"
      },
      "source": [
        "dataset[['Title','Metacritic Score']].sort_values(by='Metacritic Score',ascending=False).head(10)"
      ],
      "execution_count": 7,
      "outputs": [
        {
          "output_type": "execute_result",
          "data": {
            "text/html": [
              "<div>\n",
              "<style scoped>\n",
              "    .dataframe tbody tr th:only-of-type {\n",
              "        vertical-align: middle;\n",
              "    }\n",
              "\n",
              "    .dataframe tbody tr th {\n",
              "        vertical-align: top;\n",
              "    }\n",
              "\n",
              "    .dataframe thead th {\n",
              "        text-align: right;\n",
              "    }\n",
              "</style>\n",
              "<table border=\"1\" class=\"dataframe\">\n",
              "  <thead>\n",
              "    <tr style=\"text-align: right;\">\n",
              "      <th></th>\n",
              "      <th>Title</th>\n",
              "      <th>Metacritic Score</th>\n",
              "    </tr>\n",
              "  </thead>\n",
              "  <tbody>\n",
              "    <tr>\n",
              "      <th>12177</th>\n",
              "      <td>Lawrence of Arabia: Restored Version</td>\n",
              "      <td>100.0</td>\n",
              "    </tr>\n",
              "    <tr>\n",
              "      <th>14696</th>\n",
              "      <td>The Godfather</td>\n",
              "      <td>100.0</td>\n",
              "    </tr>\n",
              "    <tr>\n",
              "      <th>14142</th>\n",
              "      <td>Trois Couleurs - Rouge</td>\n",
              "      <td>100.0</td>\n",
              "    </tr>\n",
              "    <tr>\n",
              "      <th>9913</th>\n",
              "      <td>Moonlight</td>\n",
              "      <td>99.0</td>\n",
              "    </tr>\n",
              "    <tr>\n",
              "      <th>3362</th>\n",
              "      <td>City Lights</td>\n",
              "      <td>99.0</td>\n",
              "    </tr>\n",
              "    <tr>\n",
              "      <th>9938</th>\n",
              "      <td>Pinocchio</td>\n",
              "      <td>99.0</td>\n",
              "    </tr>\n",
              "    <tr>\n",
              "      <th>11980</th>\n",
              "      <td>Rashomon</td>\n",
              "      <td>98.0</td>\n",
              "    </tr>\n",
              "    <tr>\n",
              "      <th>15141</th>\n",
              "      <td>Pans Labyrinth</td>\n",
              "      <td>98.0</td>\n",
              "    </tr>\n",
              "    <tr>\n",
              "      <th>11633</th>\n",
              "      <td>Gone with the Wind</td>\n",
              "      <td>97.0</td>\n",
              "    </tr>\n",
              "    <tr>\n",
              "      <th>9264</th>\n",
              "      <td>American Graffiti</td>\n",
              "      <td>97.0</td>\n",
              "    </tr>\n",
              "  </tbody>\n",
              "</table>\n",
              "</div>"
            ],
            "text/plain": [
              "                                      Title  Metacritic Score\n",
              "12177  Lawrence of Arabia: Restored Version             100.0\n",
              "14696                         The Godfather             100.0\n",
              "14142                Trois Couleurs - Rouge             100.0\n",
              "9913                              Moonlight              99.0\n",
              "3362                            City Lights              99.0\n",
              "9938                              Pinocchio              99.0\n",
              "11980                              Rashomon              98.0\n",
              "15141                        Pans Labyrinth              98.0\n",
              "11633                    Gone with the Wind              97.0\n",
              "9264                      American Graffiti              97.0"
            ]
          },
          "metadata": {
            "tags": []
          },
          "execution_count": 7
        }
      ]
    },
    {
      "cell_type": "markdown",
      "metadata": {
        "id": "7d21IU7zW4jh"
      },
      "source": [
        "### **2. Top 10 movies based on overall score **"
      ]
    },
    {
      "cell_type": "code",
      "metadata": {
        "colab": {
          "base_uri": "https://localhost:8080/",
          "height": 343
        },
        "id": "2jMB585csu3X",
        "outputId": "049e2681-01d8-409a-ac82-24eed1903fd4"
      },
      "source": [
        "dataset['Total Score']=dataset['Hidden Gem Score']+dataset['IMDb Score']+dataset['Metacritic Score']+dataset['Rotten Tomatoes Score']\n",
        "dataset[['Title','Total Score']].sort_values(by='Total Score',ascending=False).head(10)"
      ],
      "execution_count": 8,
      "outputs": [
        {
          "output_type": "execute_result",
          "data": {
            "text/html": [
              "<div>\n",
              "<style scoped>\n",
              "    .dataframe tbody tr th:only-of-type {\n",
              "        vertical-align: middle;\n",
              "    }\n",
              "\n",
              "    .dataframe tbody tr th {\n",
              "        vertical-align: top;\n",
              "    }\n",
              "\n",
              "    .dataframe thead th {\n",
              "        text-align: right;\n",
              "    }\n",
              "</style>\n",
              "<table border=\"1\" class=\"dataframe\">\n",
              "  <thead>\n",
              "    <tr style=\"text-align: right;\">\n",
              "      <th></th>\n",
              "      <th>Title</th>\n",
              "      <th>Total Score</th>\n",
              "    </tr>\n",
              "  </thead>\n",
              "  <tbody>\n",
              "    <tr>\n",
              "      <th>14142</th>\n",
              "      <td>Trois Couleurs - Rouge</td>\n",
              "      <td>212.8</td>\n",
              "    </tr>\n",
              "    <tr>\n",
              "      <th>14696</th>\n",
              "      <td>The Godfather</td>\n",
              "      <td>212.0</td>\n",
              "    </tr>\n",
              "    <tr>\n",
              "      <th>3362</th>\n",
              "      <td>City Lights</td>\n",
              "      <td>210.2</td>\n",
              "    </tr>\n",
              "    <tr>\n",
              "      <th>12177</th>\n",
              "      <td>Lawrence of Arabia: Restored Version</td>\n",
              "      <td>210.0</td>\n",
              "    </tr>\n",
              "    <tr>\n",
              "      <th>11976</th>\n",
              "      <td>Modern Times</td>\n",
              "      <td>209.2</td>\n",
              "    </tr>\n",
              "    <tr>\n",
              "      <th>9913</th>\n",
              "      <td>Moonlight</td>\n",
              "      <td>208.9</td>\n",
              "    </tr>\n",
              "    <tr>\n",
              "      <th>11980</th>\n",
              "      <td>Rashomon</td>\n",
              "      <td>208.8</td>\n",
              "    </tr>\n",
              "    <tr>\n",
              "      <th>14929</th>\n",
              "      <td>Virunga</td>\n",
              "      <td>207.8</td>\n",
              "    </tr>\n",
              "    <tr>\n",
              "      <th>1594</th>\n",
              "      <td>Parasite</td>\n",
              "      <td>207.3</td>\n",
              "    </tr>\n",
              "    <tr>\n",
              "      <th>9711</th>\n",
              "      <td>I Am Not Your Negro</td>\n",
              "      <td>206.4</td>\n",
              "    </tr>\n",
              "  </tbody>\n",
              "</table>\n",
              "</div>"
            ],
            "text/plain": [
              "                                      Title  Total Score\n",
              "14142                Trois Couleurs - Rouge        212.8\n",
              "14696                         The Godfather        212.0\n",
              "3362                            City Lights        210.2\n",
              "12177  Lawrence of Arabia: Restored Version        210.0\n",
              "11976                          Modern Times        209.2\n",
              "9913                              Moonlight        208.9\n",
              "11980                              Rashomon        208.8\n",
              "14929                               Virunga        207.8\n",
              "1594                               Parasite        207.3\n",
              "9711                    I Am Not Your Negro        206.4"
            ]
          },
          "metadata": {
            "tags": []
          },
          "execution_count": 8
        }
      ]
    },
    {
      "cell_type": "markdown",
      "metadata": {
        "id": "SZWmb_2IYM4p"
      },
      "source": [
        "### **3. Number of movies in each rating category **"
      ]
    },
    {
      "cell_type": "code",
      "metadata": {
        "colab": {
          "base_uri": "https://localhost:8080/"
        },
        "id": "SQqdZSPju-wI",
        "outputId": "69f7839e-7382-4f3e-b463-3f8c430c2181"
      },
      "source": [
        "dataset.columns"
      ],
      "execution_count": 9,
      "outputs": [
        {
          "output_type": "execute_result",
          "data": {
            "text/plain": [
              "Index(['Title', 'Genre', 'Languages', 'Series or Movie', 'Hidden Gem Score',\n",
              "       'Country Availability', 'Runtime', 'Director', 'Writer', 'Actors',\n",
              "       'View Rating', 'IMDb Score', 'Rotten Tomatoes Score',\n",
              "       'Metacritic Score', 'Awards Received', 'Awards Nominated For',\n",
              "       'Boxoffice', 'Release Date', 'Netflix Release Date', 'Production House',\n",
              "       'IMDb Votes', 'Total Score'],\n",
              "      dtype='object')"
            ]
          },
          "metadata": {
            "tags": []
          },
          "execution_count": 9
        }
      ]
    },
    {
      "cell_type": "code",
      "metadata": {
        "colab": {
          "base_uri": "https://localhost:8080/"
        },
        "id": "Vnx6Q_ooTUQX",
        "outputId": "6d004141-6cc7-44d7-ad0f-698f618dc382"
      },
      "source": [
        "plt.style.available"
      ],
      "execution_count": 42,
      "outputs": [
        {
          "output_type": "execute_result",
          "data": {
            "text/plain": [
              "['Solarize_Light2',\n",
              " '_classic_test_patch',\n",
              " 'bmh',\n",
              " 'classic',\n",
              " 'dark_background',\n",
              " 'fast',\n",
              " 'fivethirtyeight',\n",
              " 'ggplot',\n",
              " 'grayscale',\n",
              " 'seaborn',\n",
              " 'seaborn-bright',\n",
              " 'seaborn-colorblind',\n",
              " 'seaborn-dark',\n",
              " 'seaborn-dark-palette',\n",
              " 'seaborn-darkgrid',\n",
              " 'seaborn-deep',\n",
              " 'seaborn-muted',\n",
              " 'seaborn-notebook',\n",
              " 'seaborn-paper',\n",
              " 'seaborn-pastel',\n",
              " 'seaborn-poster',\n",
              " 'seaborn-talk',\n",
              " 'seaborn-ticks',\n",
              " 'seaborn-white',\n",
              " 'seaborn-whitegrid',\n",
              " 'tableau-colorblind10']"
            ]
          },
          "metadata": {
            "tags": []
          },
          "execution_count": 42
        }
      ]
    },
    {
      "cell_type": "code",
      "metadata": {
        "colab": {
          "base_uri": "https://localhost:8080/",
          "height": 595
        },
        "id": "iywECMrfvKz3",
        "outputId": "ce9d8898-310a-43bc-8a37-295731c86e7d"
      },
      "source": [
        "plt.style.use('fivethirtyeight')\n",
        "fig, ax = plt.subplots(figsize=(16,9))\n",
        "ax = dataset['View Rating'].value_counts().head(10).plot.bar()\n",
        "#ax.invert_yaxis()\n",
        "plt.ylabel('Number of Movies')\n",
        "plt.xlabel('Types of Ratings')\n",
        "plt.xticks(rotation=0)\n",
        "plt.show()"
      ],
      "execution_count": 50,
      "outputs": [
        {
          "output_type": "display_data",
          "data": {
            "image/png": "[encoded data removed]",
            "text/plain": [
              "<Figure size 1152x648 with 1 Axes>"
            ]
          },
          "metadata": {
            "tags": []
          }
        }
      ]
    },
    {
      "cell_type": "markdown",
      "metadata": {
        "id": "l97K0sVrY1Np"
      },
      "source": [
        "### **4. Top 10 movies based on awards received **"
      ]
    },
    {
      "cell_type": "code",
      "metadata": {
        "colab": {
          "base_uri": "https://localhost:8080/",
          "height": 343
        },
        "id": "TDSrB4VRvk9P",
        "outputId": "11845daa-bf30-4bea-921f-dd3073134607"
      },
      "source": [
        "dataset[['Title','Awards Received']].sort_values(by='Awards Received', ascending = False).head(10)"
      ],
      "execution_count": 11,
      "outputs": [
        {
          "output_type": "execute_result",
          "data": {
            "text/html": [
              "<div>\n",
              "<style scoped>\n",
              "    .dataframe tbody tr th:only-of-type {\n",
              "        vertical-align: middle;\n",
              "    }\n",
              "\n",
              "    .dataframe tbody tr th {\n",
              "        vertical-align: top;\n",
              "    }\n",
              "\n",
              "    .dataframe thead th {\n",
              "        text-align: right;\n",
              "    }\n",
              "</style>\n",
              "<table border=\"1\" class=\"dataframe\">\n",
              "  <thead>\n",
              "    <tr style=\"text-align: right;\">\n",
              "      <th></th>\n",
              "      <th>Title</th>\n",
              "      <th>Awards Received</th>\n",
              "    </tr>\n",
              "  </thead>\n",
              "  <tbody>\n",
              "    <tr>\n",
              "      <th>1594</th>\n",
              "      <td>Parasite</td>\n",
              "      <td>300.0</td>\n",
              "    </tr>\n",
              "    <tr>\n",
              "      <th>6598</th>\n",
              "      <td>ROMA</td>\n",
              "      <td>251.0</td>\n",
              "    </tr>\n",
              "    <tr>\n",
              "      <th>9325</th>\n",
              "      <td>La La Land</td>\n",
              "      <td>242.0</td>\n",
              "    </tr>\n",
              "    <tr>\n",
              "      <th>13550</th>\n",
              "      <td>12 Years a Slave</td>\n",
              "      <td>242.0</td>\n",
              "    </tr>\n",
              "    <tr>\n",
              "      <th>11423</th>\n",
              "      <td>Mad Max: Fury Road</td>\n",
              "      <td>241.0</td>\n",
              "    </tr>\n",
              "    <tr>\n",
              "      <th>13333</th>\n",
              "      <td>Gravity</td>\n",
              "      <td>239.0</td>\n",
              "    </tr>\n",
              "    <tr>\n",
              "      <th>326</th>\n",
              "      <td>Sesame Street</td>\n",
              "      <td>232.0</td>\n",
              "    </tr>\n",
              "    <tr>\n",
              "      <th>9913</th>\n",
              "      <td>Moonlight</td>\n",
              "      <td>229.0</td>\n",
              "    </tr>\n",
              "    <tr>\n",
              "      <th>15119</th>\n",
              "      <td>The Lord of the Rings: The Return of the King</td>\n",
              "      <td>210.0</td>\n",
              "    </tr>\n",
              "    <tr>\n",
              "      <th>12229</th>\n",
              "      <td>Birdman or (The Unexpected Virtue of Ignorance)</td>\n",
              "      <td>194.0</td>\n",
              "    </tr>\n",
              "  </tbody>\n",
              "</table>\n",
              "</div>"
            ],
            "text/plain": [
              "                                                 Title  Awards Received\n",
              "1594                                          Parasite            300.0\n",
              "6598                                              ROMA            251.0\n",
              "9325                                        La La Land            242.0\n",
              "13550                                 12 Years a Slave            242.0\n",
              "11423                               Mad Max: Fury Road            241.0\n",
              "13333                                          Gravity            239.0\n",
              "326                                      Sesame Street            232.0\n",
              "9913                                         Moonlight            229.0\n",
              "15119    The Lord of the Rings: The Return of the King            210.0\n",
              "12229  Birdman or (The Unexpected Virtue of Ignorance)            194.0"
            ]
          },
          "metadata": {
            "tags": []
          },
          "execution_count": 11
        }
      ]
    },
    {
      "cell_type": "markdown",
      "metadata": {
        "id": "Wy-epTJvZEY5"
      },
      "source": [
        "### **5. Number of days it takes for a movie to release on Netflix**"
      ]
    },
    {
      "cell_type": "code",
      "metadata": {
        "colab": {
          "base_uri": "https://localhost:8080/"
        },
        "id": "kL1I2GBQxaeY",
        "outputId": "78a95e43-c6e2-42ba-9ed1-79cce911336b"
      },
      "source": [
        "dataset['Netflix Release Date'] = pd.to_datetime(dataset['Netflix Release Date'])\n",
        "dataset['Release Date'] = pd.to_datetime(dataset['Release Date'])\n",
        "dataset['Days'] = dataset['Netflix Release Date'] - dataset['Release Date']\n",
        "dataset['Days'].median()"
      ],
      "execution_count": 27,
      "outputs": [
        {
          "output_type": "execute_result",
          "data": {
            "text/plain": [
              "Timedelta('760 days 00:00:00')"
            ]
          },
          "metadata": {
            "tags": []
          },
          "execution_count": 27
        }
      ]
    },
    {
      "cell_type": "markdown",
      "metadata": {
        "id": "KBjS7gdnZYJp"
      },
      "source": [
        "### **6. Number of movies in each language **"
      ]
    },
    {
      "cell_type": "code",
      "metadata": {
        "colab": {
          "base_uri": "https://localhost:8080/",
          "height": 568
        },
        "id": "TIvtbRoj3ckZ",
        "outputId": "ea93ef36-1083-4661-b4c1-389d2e4b5d65"
      },
      "source": [
        "dataset.head()"
      ],
      "execution_count": 13,
      "outputs": [
        {
          "output_type": "execute_result",
          "data": {
            "text/html": [
              "<div>\n",
              "<style scoped>\n",
              "    .dataframe tbody tr th:only-of-type {\n",
              "        vertical-align: middle;\n",
              "    }\n",
              "\n",
              "    .dataframe tbody tr th {\n",
              "        vertical-align: top;\n",
              "    }\n",
              "\n",
              "    .dataframe thead th {\n",
              "        text-align: right;\n",
              "    }\n",
              "</style>\n",
              "<table border=\"1\" class=\"dataframe\">\n",
              "  <thead>\n",
              "    <tr style=\"text-align: right;\">\n",
              "      <th></th>\n",
              "      <th>Title</th>\n",
              "      <th>Genre</th>\n",
              "      <th>Languages</th>\n",
              "      <th>Series or Movie</th>\n",
              "      <th>Hidden Gem Score</th>\n",
              "      <th>Country Availability</th>\n",
              "      <th>Runtime</th>\n",
              "      <th>Director</th>\n",
              "      <th>Writer</th>\n",
              "      <th>Actors</th>\n",
              "      <th>View Rating</th>\n",
              "      <th>IMDb Score</th>\n",
              "      <th>Rotten Tomatoes Score</th>\n",
              "      <th>Metacritic Score</th>\n",
              "      <th>Awards Received</th>\n",
              "      <th>Awards Nominated For</th>\n",
              "      <th>Boxoffice</th>\n",
              "      <th>Release Date</th>\n",
              "      <th>Netflix Release Date</th>\n",
              "      <th>Production House</th>\n",
              "      <th>IMDb Votes</th>\n",
              "      <th>Total Score</th>\n",
              "      <th>Days</th>\n",
              "    </tr>\n",
              "  </thead>\n",
              "  <tbody>\n",
              "    <tr>\n",
              "      <th>0</th>\n",
              "      <td>Lets Fight Ghost</td>\n",
              "      <td>Crime, Drama, Fantasy, Horror, Romance</td>\n",
              "      <td>Swedish, Spanish</td>\n",
              "      <td>Series</td>\n",
              "      <td>4.3</td>\n",
              "      <td>Thailand</td>\n",
              "      <td>&lt; 30 minutes</td>\n",
              "      <td>Tomas Alfredson</td>\n",
              "      <td>John Ajvide Lindqvist</td>\n",
              "      <td>Kåre Hedebrant, Per Ragnar, Lina Leandersson, ...</td>\n",
              "      <td>R</td>\n",
              "      <td>7.9</td>\n",
              "      <td>98.0</td>\n",
              "      <td>82.0</td>\n",
              "      <td>74.0</td>\n",
              "      <td>57.0</td>\n",
              "      <td>$2,122,065</td>\n",
              "      <td>2008-12-12</td>\n",
              "      <td>2021-03-04</td>\n",
              "      <td>Canal+, Sandrew Metronome</td>\n",
              "      <td>205926.0</td>\n",
              "      <td>192.2</td>\n",
              "      <td>4465 days</td>\n",
              "    </tr>\n",
              "    <tr>\n",
              "      <th>1</th>\n",
              "      <td>HOW TO BUILD A GIRL</td>\n",
              "      <td>Comedy</td>\n",
              "      <td>English</td>\n",
              "      <td>Movie</td>\n",
              "      <td>7.0</td>\n",
              "      <td>Canada</td>\n",
              "      <td>1-2 hour</td>\n",
              "      <td>Coky Giedroyc</td>\n",
              "      <td>Caitlin Moran</td>\n",
              "      <td>Paddy Considine, Cleo, Beanie Feldstein, Dónal...</td>\n",
              "      <td>R</td>\n",
              "      <td>5.8</td>\n",
              "      <td>79.0</td>\n",
              "      <td>69.0</td>\n",
              "      <td>1.0</td>\n",
              "      <td>NaN</td>\n",
              "      <td>$70,632</td>\n",
              "      <td>2020-05-08</td>\n",
              "      <td>2021-03-04</td>\n",
              "      <td>Film 4, Monumental Pictures, Lionsgate</td>\n",
              "      <td>2838.0</td>\n",
              "      <td>160.8</td>\n",
              "      <td>300 days</td>\n",
              "    </tr>\n",
              "    <tr>\n",
              "      <th>2</th>\n",
              "      <td>Centigrade</td>\n",
              "      <td>Drama, Thriller</td>\n",
              "      <td>English</td>\n",
              "      <td>Movie</td>\n",
              "      <td>6.4</td>\n",
              "      <td>Canada</td>\n",
              "      <td>1-2 hour</td>\n",
              "      <td>Brendan Walsh</td>\n",
              "      <td>Brendan Walsh, Daley Nixon</td>\n",
              "      <td>Genesis Rodriguez, Vincent Piazza</td>\n",
              "      <td>Unrated</td>\n",
              "      <td>4.3</td>\n",
              "      <td>NaN</td>\n",
              "      <td>46.0</td>\n",
              "      <td>NaN</td>\n",
              "      <td>NaN</td>\n",
              "      <td>$16,263</td>\n",
              "      <td>2020-08-28</td>\n",
              "      <td>2021-03-04</td>\n",
              "      <td>NaN</td>\n",
              "      <td>1720.0</td>\n",
              "      <td>NaN</td>\n",
              "      <td>188 days</td>\n",
              "    </tr>\n",
              "    <tr>\n",
              "      <th>3</th>\n",
              "      <td>ANNE+</td>\n",
              "      <td>Drama</td>\n",
              "      <td>Turkish</td>\n",
              "      <td>Series</td>\n",
              "      <td>7.7</td>\n",
              "      <td>Belgium,Netherlands</td>\n",
              "      <td>&lt; 30 minutes</td>\n",
              "      <td>NaN</td>\n",
              "      <td>NaN</td>\n",
              "      <td>Vahide Perçin, Gonca Vuslateri, Cansu Dere, Be...</td>\n",
              "      <td>NaN</td>\n",
              "      <td>6.5</td>\n",
              "      <td>NaN</td>\n",
              "      <td>NaN</td>\n",
              "      <td>1.0</td>\n",
              "      <td>NaN</td>\n",
              "      <td>NaN</td>\n",
              "      <td>2016-10-01</td>\n",
              "      <td>2021-03-04</td>\n",
              "      <td>NaN</td>\n",
              "      <td>1147.0</td>\n",
              "      <td>NaN</td>\n",
              "      <td>1615 days</td>\n",
              "    </tr>\n",
              "    <tr>\n",
              "      <th>4</th>\n",
              "      <td>Moxie</td>\n",
              "      <td>Animation, Short, Drama</td>\n",
              "      <td>English</td>\n",
              "      <td>Movie</td>\n",
              "      <td>8.1</td>\n",
              "      <td>Lithuania,Poland,France,Iceland,Italy,Spain,Gr...</td>\n",
              "      <td>1-2 hour</td>\n",
              "      <td>Stephen Irwin</td>\n",
              "      <td>NaN</td>\n",
              "      <td>Ragga Gudrun</td>\n",
              "      <td>NaN</td>\n",
              "      <td>6.3</td>\n",
              "      <td>NaN</td>\n",
              "      <td>NaN</td>\n",
              "      <td>NaN</td>\n",
              "      <td>4.0</td>\n",
              "      <td>NaN</td>\n",
              "      <td>2011-09-22</td>\n",
              "      <td>2021-03-04</td>\n",
              "      <td>NaN</td>\n",
              "      <td>63.0</td>\n",
              "      <td>NaN</td>\n",
              "      <td>3451 days</td>\n",
              "    </tr>\n",
              "  </tbody>\n",
              "</table>\n",
              "</div>"
            ],
            "text/plain": [
              "                 Title  ...      Days\n",
              "0     Lets Fight Ghost  ... 4465 days\n",
              "1  HOW TO BUILD A GIRL  ...  300 days\n",
              "2           Centigrade  ...  188 days\n",
              "3                ANNE+  ... 1615 days\n",
              "4                Moxie  ... 3451 days\n",
              "\n",
              "[5 rows x 23 columns]"
            ]
          },
          "metadata": {
            "tags": []
          },
          "execution_count": 13
        }
      ]
    },
    {
      "cell_type": "code",
      "metadata": {
        "id": "EyZcWzjg5KaY"
      },
      "source": [
        "dataset['Languages'].fillna('Unknown',inplace=True)"
      ],
      "execution_count": 14,
      "outputs": []
    },
    {
      "cell_type": "code",
      "metadata": {
        "colab": {
          "base_uri": "https://localhost:8080/"
        },
        "id": "Fgo5px6X79mg",
        "outputId": "728bd38f-68a0-4dac-bbc4-b81108b96b59"
      },
      "source": [
        "dataset.isnull().sum()"
      ],
      "execution_count": 15,
      "outputs": [
        {
          "output_type": "execute_result",
          "data": {
            "text/plain": [
              "Title                        0\n",
              "Genre                     1710\n",
              "Languages                    0\n",
              "Series or Movie              0\n",
              "Hidden Gem Score          2101\n",
              "Country Availability        19\n",
              "Runtime                      1\n",
              "Director                  4708\n",
              "Writer                    4330\n",
              "Actors                    1925\n",
              "View Rating               7024\n",
              "IMDb Score                2099\n",
              "Rotten Tomatoes Score     9098\n",
              "Metacritic Score         11144\n",
              "Awards Received           9405\n",
              "Awards Nominated For      7819\n",
              "Boxoffice                11473\n",
              "Release Date              2107\n",
              "Netflix Release Date         0\n",
              "Production House         10331\n",
              "IMDb Votes                2101\n",
              "Total Score              11546\n",
              "Days                      2107\n",
              "dtype: int64"
            ]
          },
          "metadata": {
            "tags": []
          },
          "execution_count": 15
        }
      ]
    },
    {
      "cell_type": "code",
      "metadata": {
        "colab": {
          "base_uri": "https://localhost:8080/"
        },
        "id": "b_fwZITI9wkY",
        "outputId": "bcc88c5b-702c-480d-9d34-adfbbb81649b"
      },
      "source": [
        "l={'boy':1,'girl':2}\n",
        "l.keys() == ['girl']"
      ],
      "execution_count": 16,
      "outputs": [
        {
          "output_type": "execute_result",
          "data": {
            "text/plain": [
              "False"
            ]
          },
          "metadata": {
            "tags": []
          },
          "execution_count": 16
        }
      ]
    },
    {
      "cell_type": "code",
      "metadata": {
        "colab": {
          "base_uri": "https://localhost:8080/"
        },
        "id": "LTWxuHbX4Z84",
        "outputId": "13865729-a142-4c7a-9f3a-3074dc42db68"
      },
      "source": [
        "lang = {}\n",
        "for i in dataset['Languages']:\n",
        "    j = i.split(', ')\n",
        "    for i in j:\n",
        "      if i in lang:\n",
        "        lang[i] +=1\n",
        "      else:\n",
        "        lang[i] = 1\n",
        "sort_lang = dict(sorted(lang.items(),key=lambda x:x[1],reverse = True)[:10])\n",
        "print(sort_lang)"
      ],
      "execution_count": 51,
      "outputs": [
        {
          "output_type": "stream",
          "text": [
            "{'English': 8041, 'Unknown': 1935, 'Japanese': 1667, 'Spanish': 1143, 'French': 1055, 'Korean': 735, 'German': 682, 'Hindi': 539, 'Mandarin': 491, 'Italian': 484}\n"
          ],
          "name": "stdout"
        }
      ]
    },
    {
      "cell_type": "code",
      "metadata": {
        "colab": {
          "base_uri": "https://localhost:8080/",
          "height": 612
        },
        "id": "1Veg_Gf6USpH",
        "outputId": "e6707e5d-7ace-43cd-dcd9-f16e29af53c4"
      },
      "source": [
        "fig, ax = plt.subplots(figsize=(16,9))\n",
        "ax = plt.bar(sort_lang.keys(),sort_lang.values())\n",
        "plt.xlabel('Language')\n",
        "plt.ylabel('Number of Movies available')"
      ],
      "execution_count": 57,
      "outputs": [
        {
          "output_type": "execute_result",
          "data": {
            "text/plain": [
              "Text(0, 0.5, 'Number of Movies available')"
            ]
          },
          "metadata": {
            "tags": []
          },
          "execution_count": 57
        },
        {
          "output_type": "display_data",
          "data": {
            "image/png": "[encoded data removed]",
            "text/plain": [
              "<Figure size 1152x648 with 1 Axes>"
            ]
          },
          "metadata": {
            "tags": []
          }
        }
      ]
    },
    {
      "cell_type": "markdown",
      "metadata": {
        "id": "ACQiHOK7aAwR"
      },
      "source": [
        "### **7. Number of movies in each run time **"
      ]
    },
    {
      "cell_type": "code",
      "metadata": {
        "colab": {
          "base_uri": "https://localhost:8080/",
          "height": 363
        },
        "id": "h0V4S7GG_Zj4",
        "outputId": "cb17a551-24de-4f10-fe09-9628a15d2729"
      },
      "source": [
        "dataset['Runtime'].value_counts().plot.bar()\n",
        "plt.show()"
      ],
      "execution_count": 62,
      "outputs": [
        {
          "output_type": "display_data",
          "data": {
            "image/png": "[encoded data removed]",
            "text/plain": [
              "<Figure size 432x288 with 1 Axes>"
            ]
          },
          "metadata": {
            "tags": []
          }
        }
      ]
    },
    {
      "cell_type": "code",
      "metadata": {
        "id": "BIfY0NvqV0rm"
      },
      "source": [
        ""
      ],
      "execution_count": null,
      "outputs": []
    },
    {
      "cell_type": "markdown",
      "metadata": {
        "id": "89PaIf3vaYeB"
      },
      "source": [
        "### **8. Movies with good IMDb rating (above 7) after that realsed after 2019**\n"
      ]
    },
    {
      "cell_type": "code",
      "metadata": {
        "id": "fzItddX8_lJh"
      },
      "source": [
        "dataset['Release year'] = pd.DatetimeIndex(dataset['Release Date']).year"
      ],
      "execution_count": 19,
      "outputs": []
    },
    {
      "cell_type": "code",
      "metadata": {
        "colab": {
          "base_uri": "https://localhost:8080/"
        },
        "id": "kvzD1noMCV2a",
        "outputId": "501b7c75-820b-4e86-a227-9d9702f5a3a9"
      },
      "source": [
        "data = dataset[['Title','IMDb Score']][dataset['Release year']>2019]\n",
        "data['Title'][data['IMDb Score']>8]"
      ],
      "execution_count": 20,
      "outputs": [
        {
          "output_type": "execute_result",
          "data": {
            "text/plain": [
              "46                                       The New Pope\n",
              "123                                        Collective\n",
              "223                                        Kid Cosmic\n",
              "247                            The House Arrest of Us\n",
              "274                                         Go Dog Go\n",
              "293                                       No Festival\n",
              "320             Mushoku Tensei: Jobless Reincarnation\n",
              "335                                          Horimiya\n",
              "363                                       Idoly Pride\n",
              "378                                  Gaya Sa Pelikula\n",
              "402                     Headspace Guide to Meditation\n",
              "423                  Jochem Myjer - Adem In, Adem Uit\n",
              "458                               Love and Redemption\n",
              "564                        Rhyme Time Town Singalongs\n",
              "571                                   Paava Kadhaigal\n",
              "894                                          Go Ahead\n",
              "958                               The Uncanny Counter\n",
              "1104                                         18 Again\n",
              "1135                                      Trash Truck\n",
              "1217                                             1917\n",
              "1301            The Three Deaths of Marisela Escobedo\n",
              "1334                                   Jujutsu Kaisen\n",
              "1336         David Attenborough: A Life on Our Planet\n",
              "1392                                  Kiss the Ground\n",
              "1462                           Julie and the Phantoms\n",
              "1501                               My Octopus Teacher\n",
              "1592                                           Staged\n",
              "1647                                   Rising Phoenix\n",
              "1698                                 Bread Barbershop\n",
              "1880                             Love on the Spectrum\n",
              "1902                           Where Your Eyes Linger\n",
              "1976                     Down to Earth with Zac Efron\n",
              "2038                         The World of the Married\n",
              "2090                                       Ultraman Z\n",
              "2407                              Pretend It’s a City\n",
              "2620        Emicida: AmarElo - It’s All For Yesterday\n",
              "3183                                       Lenox Hill\n",
              "3284        Ben Platt Live from Radio City Music Hall\n",
              "3472                              The Midnight Gospel\n",
              "3474                                   The Last Dance\n",
              "3477                        The King: Eternal Monarch\n",
              "3710                                        Caliphate\n",
              "3720    Shaun the Sheep: Adventures from Mossy Bottom\n",
              "3751                                Hospital Playlist\n",
              "3828                  The Trials of Gabriel Fernandez\n",
              "3947                                    Itaewon Class\n",
              "3965                 Night on Earth: Shot in the Dark\n",
              "3967                                   Night on Earth\n",
              "4051                 Kipo and the Age of Wonderbeasts\n",
              "4058                                       Dorohedoro\n",
              "4064                                    Scissor Seven\n",
              "4083                                            Cheer\n",
              "4094                              Go! Go! Cory Carson\n",
              "5837                   Demon Slayer: Kimetsu no Yaiba\n",
              "7170                                         Im Sorry\n",
              "Name: Title, dtype: object"
            ]
          },
          "metadata": {
            "tags": []
          },
          "execution_count": 20
        }
      ]
    },
    {
      "cell_type": "markdown",
      "metadata": {
        "id": "BpbQivS3dc5K"
      },
      "source": [
        "### **9. Number of movies in each genre **\n"
      ]
    },
    {
      "cell_type": "code",
      "metadata": {
        "colab": {
          "base_uri": "https://localhost:8080/",
          "height": 35
        },
        "id": "uGGklBrZD436",
        "outputId": "f675f72f-42f9-4698-f32d-31ead35a5e68"
      },
      "source": [
        "dataset['Genre'].fillna('Unknown',inplace=True)\n",
        "dataset['Genre'][0]"
      ],
      "execution_count": 21,
      "outputs": [
        {
          "output_type": "execute_result",
          "data": {
            "application/vnd.google.colaboratory.intrinsic+json": {
              "type": "string"
            },
            "text/plain": [
              "'Crime, Drama, Fantasy, Horror, Romance'"
            ]
          },
          "metadata": {
            "tags": []
          },
          "execution_count": 21
        }
      ]
    },
    {
      "cell_type": "code",
      "metadata": {
        "colab": {
          "base_uri": "https://localhost:8080/"
        },
        "id": "pyeLVURLEtvB",
        "outputId": "ad2f15fd-f668-451b-93f6-9687655b0626"
      },
      "source": [
        "gen = {}\n",
        "for i in dataset['Genre']:\n",
        "    j = i.split(', ')\n",
        "    for i in j:\n",
        "      if i in gen:\n",
        "        gen[i] +=1\n",
        "      else:\n",
        "        gen[i] = 1\n",
        "sort_gen = dict(sorted(gen.items(),key=lambda x:x[1],reverse = True)[:10])\n",
        "print(sort_gen)"
      ],
      "execution_count": 59,
      "outputs": [
        {
          "output_type": "stream",
          "text": [
            "{'Drama': 6359, 'Comedy': 5077, 'Action': 2810, 'Thriller': 2739, 'Romance': 2445, 'Crime': 1932, 'Adventure': 1809, 'Unknown': 1710, 'Animation': 1665, 'Fantasy': 1594}\n"
          ],
          "name": "stdout"
        }
      ]
    },
    {
      "cell_type": "code",
      "metadata": {
        "colab": {
          "base_uri": "https://localhost:8080/",
          "height": 612
        },
        "id": "C5Ucm6iUV4nW",
        "outputId": "036b4214-60a9-4262-9246-2fe4f04bf103"
      },
      "source": [
        "fig, ax = plt.subplots(figsize=(16,9))\n",
        "ax = plt.bar(sort_gen.keys(),sort_gen.values())\n",
        "plt.xlabel('Genre')\n",
        "plt.ylabel('Number of Movies available')"
      ],
      "execution_count": 60,
      "outputs": [
        {
          "output_type": "execute_result",
          "data": {
            "text/plain": [
              "Text(0, 0.5, 'Number of Movies available')"
            ]
          },
          "metadata": {
            "tags": []
          },
          "execution_count": 60
        },
        {
          "output_type": "display_data",
          "data": {
            "image/png": "[encoded data removed]",
            "text/plain": [
              "<Figure size 1152x648 with 1 Axes>"
            ]
          },
          "metadata": {
            "tags": []
          }
        }
      ]
    },
    {
      "cell_type": "markdown",
      "metadata": {
        "id": "yZfhZsLqd0hS"
      },
      "source": [
        "### **10. Correlation between each rating **"
      ]
    },
    {
      "cell_type": "code",
      "metadata": {
        "colab": {
          "base_uri": "https://localhost:8080/",
          "height": 166
        },
        "id": "a4DmpUVND9k6",
        "outputId": "f4b06c2a-7db6-477a-9e4f-d0e506d5bbb8"
      },
      "source": [
        "corr = dataset[['Hidden Gem Score','IMDb Score','Rotten Tomatoes Score','Metacritic Score']].corr()\n",
        "corr"
      ],
      "execution_count": 69,
      "outputs": [
        {
          "output_type": "execute_result",
          "data": {
            "text/html": [
              "<div>\n",
              "<style scoped>\n",
              "    .dataframe tbody tr th:only-of-type {\n",
              "        vertical-align: middle;\n",
              "    }\n",
              "\n",
              "    .dataframe tbody tr th {\n",
              "        vertical-align: top;\n",
              "    }\n",
              "\n",
              "    .dataframe thead th {\n",
              "        text-align: right;\n",
              "    }\n",
              "</style>\n",
              "<table border=\"1\" class=\"dataframe\">\n",
              "  <thead>\n",
              "    <tr style=\"text-align: right;\">\n",
              "      <th></th>\n",
              "      <th>Hidden Gem Score</th>\n",
              "      <th>IMDb Score</th>\n",
              "      <th>Rotten Tomatoes Score</th>\n",
              "      <th>Metacritic Score</th>\n",
              "    </tr>\n",
              "  </thead>\n",
              "  <tbody>\n",
              "    <tr>\n",
              "      <th>Hidden Gem Score</th>\n",
              "      <td>1.000000</td>\n",
              "      <td>0.120373</td>\n",
              "      <td>0.397905</td>\n",
              "      <td>0.521470</td>\n",
              "    </tr>\n",
              "    <tr>\n",
              "      <th>IMDb Score</th>\n",
              "      <td>0.120373</td>\n",
              "      <td>1.000000</td>\n",
              "      <td>0.710922</td>\n",
              "      <td>0.717715</td>\n",
              "    </tr>\n",
              "    <tr>\n",
              "      <th>Rotten Tomatoes Score</th>\n",
              "      <td>0.397905</td>\n",
              "      <td>0.710922</td>\n",
              "      <td>1.000000</td>\n",
              "      <td>0.903345</td>\n",
              "    </tr>\n",
              "    <tr>\n",
              "      <th>Metacritic Score</th>\n",
              "      <td>0.521470</td>\n",
              "      <td>0.717715</td>\n",
              "      <td>0.903345</td>\n",
              "      <td>1.000000</td>\n",
              "    </tr>\n",
              "  </tbody>\n",
              "</table>\n",
              "</div>"
            ],
            "text/plain": [
              "                       Hidden Gem Score  ...  Metacritic Score\n",
              "Hidden Gem Score               1.000000  ...          0.521470\n",
              "IMDb Score                     0.120373  ...          0.717715\n",
              "Rotten Tomatoes Score          0.397905  ...          0.903345\n",
              "Metacritic Score               0.521470  ...          1.000000\n",
              "\n",
              "[4 rows x 4 columns]"
            ]
          },
          "metadata": {
            "tags": []
          },
          "execution_count": 69
        }
      ]
    },
    {
      "cell_type": "code",
      "metadata": {
        "colab": {
          "base_uri": "https://localhost:8080/",
          "height": 577
        },
        "id": "GKAgLG6jWct4",
        "outputId": "a32ed009-a594-4742-e110-3529479b0648"
      },
      "source": [
        "mask = np.zeros_like(corr)\n",
        "mask[np.triu_indices_from(mask)] = True\n",
        "with sns.axes_style(\"white\"):\n",
        "  fig, ax = plt.subplots(figsize=(16,9))\n",
        "  ax = sns.heatmap(dataset[['Hidden Gem Score','IMDb Score','Rotten Tomatoes Score','Metacritic Score']].corr(), annot=True, cmap=\"YlGnBu\", mask=mask)"
      ],
      "execution_count": 71,
      "outputs": [
        {
          "output_type": "display_data",
          "data": {
            "image/png": "[encoded data removed]",
            "text/plain": [
              "<Figure size 1152x648 with 2 Axes>"
            ]
          },
          "metadata": {
            "tags": []
          }
        }
      ]
    },
    {
      "cell_type": "markdown",
      "metadata": {
        "id": "F2ZLMowfd4JZ"
      },
      "source": [
        "### **11. Popularity of the movie based on votes **"
      ]
    },
    {
      "cell_type": "code",
      "metadata": {
        "colab": {
          "base_uri": "https://localhost:8080/",
          "height": 343
        },
        "id": "7vTXu-0pDhx3",
        "outputId": "34c20c2a-1cd2-40df-d8a8-81f8b810d75a"
      },
      "source": [
        "dataset[['Title','IMDb Votes']].sort_values(by = 'IMDb Votes', ascending=False).head(10)"
      ],
      "execution_count": 24,
      "outputs": [
        {
          "output_type": "execute_result",
          "data": {
            "text/html": [
              "<div>\n",
              "<style scoped>\n",
              "    .dataframe tbody tr th:only-of-type {\n",
              "        vertical-align: middle;\n",
              "    }\n",
              "\n",
              "    .dataframe tbody tr th {\n",
              "        vertical-align: top;\n",
              "    }\n",
              "\n",
              "    .dataframe thead th {\n",
              "        text-align: right;\n",
              "    }\n",
              "</style>\n",
              "<table border=\"1\" class=\"dataframe\">\n",
              "  <thead>\n",
              "    <tr style=\"text-align: right;\">\n",
              "      <th></th>\n",
              "      <th>Title</th>\n",
              "      <th>IMDb Votes</th>\n",
              "    </tr>\n",
              "  </thead>\n",
              "  <tbody>\n",
              "    <tr>\n",
              "      <th>14621</th>\n",
              "      <td>The Shawshank Redemption</td>\n",
              "      <td>2354197.0</td>\n",
              "    </tr>\n",
              "    <tr>\n",
              "      <th>14478</th>\n",
              "      <td>The Dark Knight</td>\n",
              "      <td>2308981.0</td>\n",
              "    </tr>\n",
              "    <tr>\n",
              "      <th>14331</th>\n",
              "      <td>Inception</td>\n",
              "      <td>2072912.0</td>\n",
              "    </tr>\n",
              "    <tr>\n",
              "      <th>15093</th>\n",
              "      <td>Pulp Fiction</td>\n",
              "      <td>1831004.0</td>\n",
              "    </tr>\n",
              "    <tr>\n",
              "      <th>864</th>\n",
              "      <td>Fiction.</td>\n",
              "      <td>1831004.0</td>\n",
              "    </tr>\n",
              "    <tr>\n",
              "      <th>14685</th>\n",
              "      <td>Forrest Gump</td>\n",
              "      <td>1814709.0</td>\n",
              "    </tr>\n",
              "    <tr>\n",
              "      <th>14290</th>\n",
              "      <td>The Matrix</td>\n",
              "      <td>1684368.0</td>\n",
              "    </tr>\n",
              "    <tr>\n",
              "      <th>14367</th>\n",
              "      <td>The Lord of the Rings: The Fellowship of the Ring</td>\n",
              "      <td>1664865.0</td>\n",
              "    </tr>\n",
              "    <tr>\n",
              "      <th>15119</th>\n",
              "      <td>The Lord of the Rings: The Return of the King</td>\n",
              "      <td>1645871.0</td>\n",
              "    </tr>\n",
              "    <tr>\n",
              "      <th>14696</th>\n",
              "      <td>The Godfather</td>\n",
              "      <td>1625286.0</td>\n",
              "    </tr>\n",
              "  </tbody>\n",
              "</table>\n",
              "</div>"
            ],
            "text/plain": [
              "                                                   Title  IMDb Votes\n",
              "14621                           The Shawshank Redemption   2354197.0\n",
              "14478                                    The Dark Knight   2308981.0\n",
              "14331                                          Inception   2072912.0\n",
              "15093                                       Pulp Fiction   1831004.0\n",
              "864                                             Fiction.   1831004.0\n",
              "14685                                       Forrest Gump   1814709.0\n",
              "14290                                         The Matrix   1684368.0\n",
              "14367  The Lord of the Rings: The Fellowship of the Ring   1664865.0\n",
              "15119      The Lord of the Rings: The Return of the King   1645871.0\n",
              "14696                                      The Godfather   1625286.0"
            ]
          },
          "metadata": {
            "tags": []
          },
          "execution_count": 24
        }
      ]
    },
    {
      "cell_type": "markdown",
      "metadata": {
        "id": "amujcbsLYvxp"
      },
      "source": [
        ""
      ]
    },
    {
      "cell_type": "code",
      "metadata": {
        "colab": {
          "base_uri": "https://localhost:8080/"
        },
        "id": "Ufj-JAcWWnim",
        "outputId": "8a1ca9a6-492f-4122-f298-350dd9bbac76"
      },
      "source": [
        "dataset.isnull().sum()"
      ],
      "execution_count": 25,
      "outputs": [
        {
          "output_type": "execute_result",
          "data": {
            "text/plain": [
              "Title                        0\n",
              "Genre                        0\n",
              "Languages                    0\n",
              "Series or Movie              0\n",
              "Hidden Gem Score          2101\n",
              "Country Availability        19\n",
              "Runtime                      1\n",
              "Director                  4708\n",
              "Writer                    4330\n",
              "Actors                    1925\n",
              "View Rating               7024\n",
              "IMDb Score                2099\n",
              "Rotten Tomatoes Score     9098\n",
              "Metacritic Score         11144\n",
              "Awards Received           9405\n",
              "Awards Nominated For      7819\n",
              "Boxoffice                11473\n",
              "Release Date              2107\n",
              "Netflix Release Date         0\n",
              "Production House         10331\n",
              "IMDb Votes                2101\n",
              "Total Score              11546\n",
              "Days                      2107\n",
              "Release year              2107\n",
              "dtype: int64"
            ]
          },
          "metadata": {
            "tags": []
          },
          "execution_count": 25
        }
      ]
    },
    {
      "cell_type": "code",
      "metadata": {
        "colab": {
          "base_uri": "https://localhost:8080/"
        },
        "id": "utN75v34cBv0",
        "outputId": "09609e72-c496-4b83-e175-137201ac61fb"
      },
      "source": [
        "dataset.shape"
      ],
      "execution_count": 26,
      "outputs": [
        {
          "output_type": "execute_result",
          "data": {
            "text/plain": [
              "(15480, 24)"
            ]
          },
          "metadata": {
            "tags": []
          },
          "execution_count": 26
        }
      ]
    },
    {
      "cell_type": "code",
      "metadata": {
        "id": "QLbhN7rhd93q"
      },
      "source": [
        ""
      ],
      "execution_count": 26,
      "outputs": []
    }
  ]
}